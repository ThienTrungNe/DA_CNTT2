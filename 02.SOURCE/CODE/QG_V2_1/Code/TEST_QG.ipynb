{
 "cells": [
  {
   "cell_type": "code",
   "execution_count": 27,
   "id": "0e429fd7",
   "metadata": {},
   "outputs": [],
   "source": [
    "from vncorenlp import VnCoreNLP\n",
    "from utils import *\n",
    "\n",
    "# Load patterns\n",
    "# Change this pattern_path to your own full path to \n",
    "pattern_path = 'C:/Users/trung/Desktop/DA_CNTT2/02.SOURCE/CODE/QG_V2_1/pattern/pattern.txt'\n",
    "with open(pattern_path, \"r\", encoding=\"utf8\") as f:\n",
    "    patterns = f.read().split('\\n')\n",
    "\n",
    "# Connect to the VnCoreNLP API\n",
    "annotator = VnCoreNLP(address=\"http://127.0.0.1\", port=9000)"
   ]
  },
  {
   "cell_type": "code",
   "execution_count": 28,
   "id": "a1d46844",
   "metadata": {},
   "outputs": [
    {
     "name": "stdout",
     "output_type": "stream",
     "text": [
      "[{'sentence': 'trung là nhân viên fpt', 'qas': []}]\n"
     ]
    }
   ],
   "source": [
    "text = \"trung là nhân viên fpt\"\n",
    "\n",
    "# To perform word segmentation, POS tagging, NER and then dependency parsing\n",
    "annotated_text = annotator.annotate(text)\n",
    "annotated_text = annotated_text['sentences']\n",
    "tmp = {}\n",
    "for i, at in enumerate(annotated_text):\n",
    "    tmp[i] = at\n",
    "annotated_text = tmp\n",
    "print(question_generation(annotated_text, patterns))"
   ]
  },
  {
   "cell_type": "code",
   "execution_count": null,
   "id": "9e8e60cd",
   "metadata": {},
   "outputs": [],
   "source": []
  }
 ],
 "metadata": {
  "kernelspec": {
   "display_name": "Python 3 (ipykernel)",
   "language": "python",
   "name": "python3"
  },
  "language_info": {
   "codemirror_mode": {
    "name": "ipython",
    "version": 3
   },
   "file_extension": ".py",
   "mimetype": "text/x-python",
   "name": "python",
   "nbconvert_exporter": "python",
   "pygments_lexer": "ipython3",
   "version": "3.9.13"
  }
 },
 "nbformat": 4,
 "nbformat_minor": 5
}
