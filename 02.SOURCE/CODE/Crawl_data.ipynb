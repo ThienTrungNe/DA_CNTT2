{
 "cells": [
  {
   "cell_type": "code",
   "execution_count": 6,
   "id": "2f5af32a",
   "metadata": {},
   "outputs": [],
   "source": [
    "import requests\n",
    "from bs4 import BeautifulSoup\n",
    "import json\n",
    "\n",
    "\n",
    "headers = requests.utils.default_headers()\n",
    "headers.update({'User-Agent': 'My User Agent 1.0',})\n",
    "\n",
    "def get_response(url):\n",
    "\n",
    "    response = requests.get(url, headers=headers)\n",
    "\n",
    "    soup = BeautifulSoup(response.content,'html.parser')\n",
    "    return soup"
   ]
  },
  {
   "cell_type": "code",
   "execution_count": 7,
   "id": "5ded2db0",
   "metadata": {},
   "outputs": [],
   "source": [
    "def json_from_html_using_bs4(url):\n",
    "    res,q = [], []\n",
    "    soup = get_response(url)\n",
    "    \n",
    "    Q1 = soup.find('h1',itemprop=\"name\").text.strip()\n",
    "    Q2 = soup.find('p',itemprop=\"text\").text.strip()\n",
    "    \n",
    "    q.append(Q1)\n",
    "    q.append(Q2)\n",
    "    \n",
    "    content = soup.find(class_ = \"tpit-question mrg-tb-15 bg-white br-8 pad-tb-15 pad-lr-15\")\n",
    "#     content.find_all('p')[-1].decompose()\n",
    "\n",
    "    for div in content.find_all('p',attrs={'style' : 'text-align: center;'}): \n",
    "        div.decompose()\n",
    "    \n",
    "    Answers = content.find_all('p')\n",
    "\n",
    "   \n",
    "    \n",
    "    txt = \"\\n \".join([p.text for p in content.find_all(\"p\")])\n",
    "    \n",
    "     \n",
    "     # Create a dictionary with the above book information\n",
    "    data = {'Question': q, 'Answer': txt}\n",
    "    res.append(data)\n",
    "    return res"
   ]
  },
  {
   "cell_type": "code",
   "execution_count": 8,
   "id": "b07f2f7f",
   "metadata": {},
   "outputs": [],
   "source": [
    "# Get all link \"Xem tất cả\"\n",
    "def Get_links(url):\n",
    "    soup = get_response(url)\n",
    "    \n",
    "    link_master = soup.find_all('a',class_=\"font-size-12\")\n",
    "    links = [link.attrs[\"href\"] for link in link_master]\n",
    "    return links"
   ]
  },
  {
   "cell_type": "code",
   "execution_count": 9,
   "id": "2b7c422f",
   "metadata": {},
   "outputs": [],
   "source": [
    "# Get all link câu hỏi\n",
    "# input: link \"xem tất cả\" VD (\"https://www.ivivu.com/hoi-dap/da-lat/khach-san\")\n",
    "def Get_all_url(url):\n",
    "    response = requests.get(url, headers=headers)\n",
    "    soup = BeautifulSoup(response.content,'html.parser')\n",
    "\n",
    "    urls = soup.find(class_ = 'tplt-lst container mrg-b-15').find_all('a', href=True)\n",
    "\n",
    "    links = [link.attrs[\"href\"] for link in urls]\n",
    "    return links"
   ]
  },
  {
   "cell_type": "code",
   "execution_count": 24,
   "id": "cf9a8164",
   "metadata": {},
   "outputs": [
    {
     "name": "stdout",
     "output_type": "stream",
     "text": [
      "Created Json File\n"
     ]
    }
   ],
   "source": [
    "url_base = \"https://www.ivivu.com/hoi-dap/nha-trang\"\n",
    "arr  = []\n",
    "link_master = Get_links(url_base)\n",
    "for mlink in link_master:\n",
    "    link_detail = Get_all_url('http:' + mlink)\n",
    "    for l in link_detail:  \n",
    "        res = json_from_html_using_bs4('http:' + l)\n",
    "        arr.append(res)\n",
    "with open('Data_Dalat.json', 'w', encoding='utf-8') as f:\n",
    "    json.dump(arr, f, indent=8, ensure_ascii=False)\n",
    "print(\"Created Json File\")"
   ]
  },
  {
   "cell_type": "code",
   "execution_count": 25,
   "id": "00d0b07b",
   "metadata": {},
   "outputs": [
    {
     "name": "stdout",
     "output_type": "stream",
     "text": [
      "Created Json File\n"
     ]
    }
   ],
   "source": [
    "url_1 = \"https://www.ivivu.com/hoi-dap/da-lat\"\n",
    "url_2 = \"https://www.ivivu.com/hoi-dap/vung-tau\"\n",
    "url_3 = \"https://www.ivivu.com/hoi-dap/hoi-an\"\n",
    "url_4 = \"https://www.ivivu.com/hoi-dap/ho-chi-minh\"\n",
    "url_5 = \"https://www.ivivu.com/hoi-dap/phan-thiet\"\n",
    "url_6 = \"https://www.ivivu.com/hoi-dap/vinh-ha-long\"\n",
    "\n",
    "url_7 = \"https://www.ivivu.com/hoi-dap/ha-noi\"\n",
    "url_8 = \"https://www.ivivu.com/hoi-dap/sapa\"\n",
    "url_9 = \"https://www.ivivu.com/hoi-dap/hue\"\n",
    "\n",
    "url_10 = \"https://www.ivivu.com/hoi-dap/long-an\"\n",
    "\n",
    "url_11 = \"https://www.ivivu.com/hoi-dap/da-nang\"\n",
    "url_12 = \"https://www.ivivu.com/hoi-dap/phu-quoc\"\n",
    "url_13 = \"https://www.ivivu.com/hoi-dap/nha-trang\"\n",
    "    \n",
    "lst_url = [url_1,url_2,url_3,url_4,url_5,url_6,url_7,url_8,url_9,url_10,url_11,url_12,url_13]  \n",
    "arr  = []\n",
    "for item in lst_url:\n",
    "    link_master = Get_links(item)\n",
    "    for mlink in link_master:\n",
    "        link_detail = Get_all_url('http:' + mlink)\n",
    "        for l in link_detail:  \n",
    "            res = json_from_html_using_bs4('http:' + l)\n",
    "            arr.append(res)\n",
    "            \n",
    "with open('Data.json', 'w', encoding='utf-8') as f:\n",
    "    json.dump(arr, f, indent=8, ensure_ascii=False)\n",
    "print(\"Created Json File\")"
   ]
  },
  {
   "cell_type": "code",
   "execution_count": null,
   "id": "2d3cba98",
   "metadata": {},
   "outputs": [],
   "source": []
  },
  {
   "cell_type": "code",
   "execution_count": 173,
   "id": "fc36d8bc",
   "metadata": {},
   "outputs": [
    {
     "data": {
      "text/plain": [
       "[[{'Question': ['Khách sạn Đà Lạt giá rẻ',\n",
       "    'Cho tôi hỏi, khu vực Đà Lạt có khách sạn nào giá rẻ?'],\n",
       "   'Answer': 'Chào bạn!\\n iVIVU.com xin giới thiệu cho bạn vài Khách sạn Đà Lạt giá hợp lý để bạn tham khảo nhé!\\n - Nhà nghỉ Beepub Đà Lạt (Giá chỉ từ 74.000 VND)\\n - Nhà nghỉ Thiên Hoàng Đà Lạt (Giá chỉ từ 114.000 VND)\\n - Nhà Nghỉ Phụng Hồng Đà Lạt (Giá chỉ từ 132.000 VND)'}]]"
      ]
     },
     "execution_count": 173,
     "metadata": {},
     "output_type": "execute_result"
    }
   ],
   "source": [
    "# TEST\n",
    "arr  = []\n",
    "url_detail = \"https://www.ivivu.com/hoi-dap/khach-san-da-lat-gia-re-4234\"\n",
    "res = json_from_html_using_bs4(url_detail)\n",
    "\n",
    "arr.append(res)\n",
    "arr\n",
    "# with open('Data.json', 'w', encoding='utf-8') as f:\n",
    "#     json.dump(arr, f, indent=8, ensure_ascii=False)"
   ]
  },
  {
   "cell_type": "code",
   "execution_count": null,
   "id": "de8e1c0b",
   "metadata": {},
   "outputs": [],
   "source": []
  },
  {
   "cell_type": "code",
   "execution_count": null,
   "id": "312e7036",
   "metadata": {},
   "outputs": [],
   "source": []
  }
 ],
 "metadata": {
  "kernelspec": {
   "display_name": "Python 3 (ipykernel)",
   "language": "python",
   "name": "python3"
  },
  "language_info": {
   "codemirror_mode": {
    "name": "ipython",
    "version": 3
   },
   "file_extension": ".py",
   "mimetype": "text/x-python",
   "name": "python",
   "nbconvert_exporter": "python",
   "pygments_lexer": "ipython3",
   "version": "3.9.13"
  }
 },
 "nbformat": 4,
 "nbformat_minor": 5
}
